{
 "cells": [
  {
   "cell_type": "code",
   "execution_count": 52,
   "metadata": {},
   "outputs": [],
   "source": [
    "import numpy as np\n",
    "import pandas as pd\n",
    "import random"
   ]
  },
  {
   "cell_type": "code",
   "execution_count": 53,
   "metadata": {},
   "outputs": [],
   "source": [
    "MUTATION_TYPES = {\"begin_end\": 0, \"middle\" : 1, \"cikcak\" : 2}"
   ]
  },
  {
   "cell_type": "code",
   "execution_count": 54,
   "metadata": {},
   "outputs": [],
   "source": [
    "def get_reference(file_name):\n",
    "    f = open(file_name, \"r\")\n",
    "    print(f.readline().strip())\n",
    "    transcript = f.readline().strip()\n",
    "    print(transcript)\n",
    "    print('Duljina transkripta: ' + str(len(transcript)))\n",
    "    return transcript"
   ]
  },
  {
   "cell_type": "code",
   "execution_count": 55,
   "metadata": {},
   "outputs": [],
   "source": [
    "letters = ['A', 'C', 'G', 'T']\n",
    "def get_mutation(position):\n",
    "    mutation = random.sample(letters, 1)[0]\n",
    "    while(mutation == transcript[position]):\n",
    "        mutation = random.sample(letters, 1)[0]\n",
    "    return mutation"
   ]
  },
  {
   "cell_type": "code",
   "execution_count": 56,
   "metadata": {},
   "outputs": [],
   "source": [
    "def create_mutations(positions):\n",
    "    mutations = []\n",
    "    for position in positions:\n",
    "        mutations.append((position, get_mutation_tetra(position)))\n",
    "    return mutations"
   ]
  },
  {
   "cell_type": "code",
   "execution_count": 57,
   "metadata": {},
   "outputs": [],
   "source": [
    "def get_mutation_positions(transcript, mutation_type, min_num_mutations, max_num_mutations):\n",
    "    mutation_positions = []\n",
    "    l = int(random.uniform(min_num_mutations, max_num_mutations))\n",
    "    if mutation_type == 0: #mutations begin_end\n",
    "        b = int(random.uniform(10, l - 10))\n",
    "        e = l - b\n",
    "        mutation_positions.extend(random.sample(range(30, 30 + l), b))\n",
    "        mutation_positions.extend(random.sample(range(len(transcript) - 30 - l, len(transcript) - 30), e))\n",
    "        print('Mutacije na početku i na kraju')\n",
    "        print(mutation_positions)\n",
    "    elif mutation_type == 1: #mutations middle\n",
    "        l = int(random.uniform(min_num_mutations, max_num_mutations))\n",
    "        mutation_positions = random.sample(range(int(len(transcript)/3), int(2*len(transcript)/3)), l)\n",
    "        print('Mutacije na sredini ' + str(int(len(transcript)/3)) + ' - ' + str(int(2*len(transcript)/3)))\n",
    "        print(mutation_positions)\n",
    "    elif mutation_type == 2:\n",
    "        pos = 30\n",
    "        l = 0\n",
    "        while pos < len(transcript) - 30:\n",
    "            num_mutations = int(random.uniform(3, 7))\n",
    "            l += num_mutations\n",
    "            mutation_positions.extend(random.sample(range(pos - num_mutations, pos + num_mutations), num_mutations))\n",
    "            pos += 20\n",
    "        print('Svakih 20ak baza nekoliko mutacija')\n",
    "        print(mutation_positions)\n",
    "    \n",
    "    return mutation_positions"
   ]
  },
  {
   "cell_type": "code",
   "execution_count": 58,
   "metadata": {},
   "outputs": [],
   "source": [
    "def generate_reads(reads, number_of_reads, p, cluster_mutations, transcript):\n",
    "    for i in range(number_of_reads):\n",
    "        cluster = random.sample(range(K), 1)[0]\n",
    "        must_have_mutations = cluster_mutations[cluster]\n",
    "        read_start = 0\n",
    "        read_end = len(transcript)\n",
    "        read_length = read_end - read_start\n",
    "        read = transcript[read_start : read_end + 1]\n",
    "        read_mmap = [0] * len(read)\n",
    "        for (position, mutation) in must_have_mutations:\n",
    "            if position >= read_start and position <= read_end:\n",
    "                index_on_read = position - read_start\n",
    "                read= read[:index_on_read] + mutation + read[index_on_read + 1:]\n",
    "                read_mmap[index_on_read] = 1\n",
    "        counter = 0\n",
    "        for j in range(read_length):   \n",
    "            mutation_percentage = random.random()\n",
    "            if mutation_percentage < p:\n",
    "                counter = counter + 1\n",
    "                read = read[:j] + getMutation(j + read_start) + read[j + 1:]\n",
    "                read_mmap[j] = 1\n",
    "        reads[(read, read_start, read_end)] = (cluster, read_mmap)"
   ]
  },
  {
   "cell_type": "code",
   "execution_count": 59,
   "metadata": {},
   "outputs": [],
   "source": [
    "def check_clusters_distribution(K, reads):\n",
    "    num_reads_per_cluster = []\n",
    "    for k in range(K):\n",
    "        num_reads_per_cluster.append(0)\n",
    "    for r in reads:\n",
    "        num_reads_per_cluster[reads[r][0]] = num_reads_per_cluster[reads[r][0]] + 1\n",
    "\n",
    "    print(\"Clusters distribution: \" + str(num_reads_per_cluster))"
   ]
  },
  {
   "cell_type": "code",
   "execution_count": 60,
   "metadata": {},
   "outputs": [],
   "source": [
    "def reads_to_file(reads, file_name):\n",
    "    f = open(file_name, \"w\")\n",
    "    for i, r in enumerate(reads):\n",
    "        name = \"read_\" + str(i)\n",
    "        mmap = \"\"\n",
    "        for modif in reads[r][1]:\n",
    "            mmap += str(modif) + \" \"\n",
    "        mmap = mmap[:-1]\n",
    "        f.write(name + \"\\t\" + mmap + \"\\t\" + str(reads[r][0]) + \"\\n\")"
   ]
  },
  {
   "cell_type": "markdown",
   "metadata": {},
   "source": [
    "# simulated reads for tetrahymena"
   ]
  },
  {
   "cell_type": "code",
   "execution_count": 61,
   "metadata": {},
   "outputs": [
    {
     "name": "stdout",
     "output_type": "stream",
     "text": [
      ">tetra\n",
      "GGCTCTCTAAATAGCAATATTTACCTTTGGAGGGAAAAGTTATCAGGCATGCACCTGGTAGCTAGTCTTTAAACCAATAGATTGCATCGGTTTAAAAGGCAAGACCGTCAAATTGCGGGAAAGGGGTCAACAGCCGTTCAGTACCAAGTCTCAGGGGAAACTTTGAGATGGCCTTGCAAAGGGTATGGTAATAAGCTGACGGACATGGTCCTAACCACGCAGCCAAGTCCTAAGTCAACAGATCTTCTGTTGATATGGATGCAGTTCACAGACTAAATGTCGGTCGGGGAAGATGTATTCTTCTCATAAGATATAGTCGGACCTCTCCTTAATGGGAGCTAGCGGATGAAGTGATGCAACACTGGAGCCGCTGGGAACTAATTTGTATGCGAAAGTATATTGATTAGTTTTGGAGTACTCG\n",
      "Duljina transkripta: 421\n",
      "Mutacije na početku i na kraju\n",
      "[49, 100, 102, 48, 52, 47, 114, 74, 75, 109, 78, 43, 53, 57, 94, 36, 92, 95, 86, 90, 101, 66, 82, 77, 113, 59, 46, 97, 61, 51, 33, 87, 45, 99, 60, 91, 44, 65, 58, 63, 108, 40, 112, 93, 310, 384, 386, 357, 371, 312, 339, 328, 347, 353, 365, 327, 305, 343, 338, 332, 319, 376, 307, 369, 363, 324, 331, 389, 314, 388, 345, 336, 322, 352, 323, 333, 320, 329, 317, 377, 350, 325, 359, 308, 304, 337, 346]\n",
      "Mutacije na sredini 140 - 280\n",
      "[206, 164, 210, 228, 201, 172, 244, 251, 197, 221, 209, 227, 152, 153, 246, 263, 187, 162, 160, 168, 154, 231, 149, 175, 241, 174, 268, 161, 212, 255, 146, 277, 182, 222, 156, 239, 235, 237, 240, 278, 186, 194, 256, 199, 214, 249, 234, 267, 257, 169, 243, 198, 191, 250, 223, 273, 163, 248, 247, 202, 195, 165, 196, 265, 207, 203, 254, 178, 145, 177, 216, 229, 276, 211, 264, 193, 144, 220, 140, 155, 190, 261, 226, 192, 188, 213, 245, 215]\n",
      "Svakih 20ak baza nekoliko mutacija\n",
      "[32, 30, 29, 52, 47, 49, 67, 73, 70, 72, 91, 92, 88, 87, 111, 115, 107, 114, 112, 110, 129, 126, 127, 133, 152, 148, 150, 154, 153, 168, 172, 169, 173, 187, 189, 191, 210, 209, 208, 213, 211, 228, 226, 227, 233, 231, 253, 249, 248, 250, 270, 273, 271, 269, 287, 288, 291, 306, 310, 309, 313, 307, 332, 327, 333, 329, 334, 349, 351, 354, 347, 348, 370, 369, 367, 393, 388, 387, 392]\n",
      "Clusters distribution: [2259, 2283, 2288]\n"
     ]
    }
   ],
   "source": [
    "transcript = get_reference(\"tetra.fasta\")\n",
    "cluster_mutations = []\n",
    "min_num_mutations = 80\n",
    "max_num_mutations = 110\n",
    "\n",
    "mutation_positions_cluster_1 = get_mutation_positions(transcript, MUTATION_TYPES[\"begin_end\"], min_num_mutations, max_num_mutations)\n",
    "mutations_cluster1 = create_mutations(mutation_positions_cluster_1)\n",
    "cluster_mutations.append(mutations_cluster1)\n",
    "\n",
    "mutation_positions_cluster_2 = get_mutation_positions(transcript, MUTATION_TYPES[\"middle\"], min_num_mutations, max_num_mutations)\n",
    "mutations_cluster2 = create_mutations(mutation_positions_cluster_2)\n",
    "cluster_mutations.append(mutations_cluster2)\n",
    "\n",
    "mutation_positions_cluster_3 = get_mutation_positions(transcript, MUTATION_TYPES[\"cikcak\"], min_num_mutations, max_num_mutations)\n",
    "mutations_cluster3 = create_mutations(mutation_positions_cluster_3)\n",
    "cluster_mutations.append(mutations_cluster3)\n",
    "\n",
    "K = len(cluster_mutations)\n",
    "\n",
    "number_of_reads = 7000  #at the end it will be smaller number\n",
    "p = 0.01   \n",
    "reads = {}\n",
    "\n",
    "generate_reads(reads, number_of_reads, p, cluster_mutations, transcript)\n",
    "\n",
    "check_clusters_distribution(K, reads)\n",
    "\n",
    "reads_to_file(reads, \"tetra_simulated_data.txt\")"
   ]
  },
  {
   "cell_type": "markdown",
   "metadata": {},
   "source": [
    "# simulated data for riboswitches"
   ]
  },
  {
   "cell_type": "code",
   "execution_count": 62,
   "metadata": {},
   "outputs": [
    {
     "name": "stdout",
     "output_type": "stream",
     "text": [
      ">TPP_1_tenA\n",
      "TAACCACTAGGGGTGTCCTTCATAAGGGCTGAGATAAAAGTGTGACTTTTAGACCCTCATAACTTGAACAGGTTCAGACCTGCGTAGGGAAGTGGAGCGGTATTTGTGTTATTTTACTATGCCAATTCCAAACCACTTTTCCTTGCGGGAAAGTGGTTTTTTTATTTTCAGAGGGGGAATGATTTGTGAAGTTTTCAGAAGAATGCCGCAGTGCAGCCGCAGAATGGTGGGAGGGGAGCTTTGTCCATCCGTTCGTTCAAGGAATCGGTGACGGAACGCTTCCGATTGACCGTTTTAAATACTACGTACTTCAGGATTCCTATTATTTAACGCATTTTGCAAAGGTGCAGTCATTTGGTGCCGCTTATGCGAAGGATCTTTATACAACGGGGCGGATGGCAAGCCATGCCCAAGGTACATATGAGGCGGAAATGGCGCTTCATCGCGAGTTTGCCGAGCTGTTGGAAATCAGCGAGGAAGAGCGTAAGGCGTTTAAGCCGTCTCCTACGGCGTACTCTTATACATCCCATATGTACCGTTCGGTTTTGAGCGGGAATTTCGCAGAAATCTTAGCGGCCCTGCTGCCATGCTATTGGCTCTATTACGAGGTTGGTGAGAAATTGCTGCATTGTGATCCGG\n",
      "Duljina transkripta: 639\n",
      "Mutacije na početku i na kraju\n",
      "[73, 83, 89, 30, 86, 47, 48, 69, 101, 43, 76, 56, 87, 38, 65, 79, 45, 85, 98, 90, 77, 105, 107, 74, 75, 102, 80, 99, 55, 104, 36, 84, 59, 51, 78, 31, 54, 46, 62, 93, 40, 110, 41, 61, 576, 556, 578, 535, 577, 546, 586, 529, 595, 588, 572, 605, 551, 534, 543, 582, 579, 527, 528, 573, 574, 599, 560, 532, 587, 593, 585, 544, 601, 537, 575, 594, 608, 598, 536, 547, 540, 557, 553]\n",
      "Mutacije na sredini 213 - 426\n",
      "[423, 261, 334, 386, 295, 230, 319, 312, 320, 267, 414, 301, 331, 395, 404, 335, 390, 356, 274, 326, 387, 391, 263, 293, 392, 350, 217, 333, 346, 268, 408, 260, 276, 406, 299, 259, 311, 405, 417, 250, 248, 360, 359, 341, 252, 337, 313, 225, 279, 298, 336, 286, 226, 224, 287, 254, 344, 425, 413, 378, 349, 282, 214, 328, 306, 218, 228, 213, 383, 343, 409, 399, 388, 418, 257, 381, 394, 220, 273, 375, 329, 219, 247, 288, 365, 379, 307, 324]\n",
      "Clusters distribution: [3494, 3493]\n"
     ]
    }
   ],
   "source": [
    "transcript = get_reference(\"tpp_reference.fasta\")\n",
    "cluster_mutations = []\n",
    "min_num_mutations = 80\n",
    "max_num_mutations = 110\n",
    "\n",
    "mutation_positions_cluster_1 = get_mutation_positions(transcript, MUTATION_TYPES[\"begin_end\"], min_num_mutations, max_num_mutations)\n",
    "mutations_cluster1 = create_mutations(mutation_positions_cluster_1)\n",
    "cluster_mutations.append(mutations_cluster1)\n",
    "\n",
    "mutation_positions_cluster_2 = get_mutation_positions(transcript, MUTATION_TYPES[\"middle\"], min_num_mutations, max_num_mutations)\n",
    "mutations_cluster2 = create_mutations(mutation_positions_cluster_2)\n",
    "cluster_mutations.append(mutations_cluster2)\n",
    "\n",
    "# mutation_positions_cluster_3 = get_mutation_positions(transcript, MUTATION_TYPES[\"cikcak\"], min_num_mutations, max_num_mutations)\n",
    "# mutations_cluster3 = create_mutations(mutation_positions_cluster_3)\n",
    "# cluster_mutations.append(mutations_cluster3)\n",
    "\n",
    "K = len(cluster_mutations)\n",
    "\n",
    "number_of_reads = 7000  #at the end it will be smaller number\n",
    "p = 0.01   \n",
    "reads = {}\n",
    "\n",
    "generate_reads(reads, number_of_reads, p, cluster_mutations, transcript)\n",
    "\n",
    "check_clusters_distribution(K, reads)\n",
    "\n",
    "reads_to_file(reads, \"ribo_simulated_data.txt\")"
   ]
  },
  {
   "cell_type": "code",
   "execution_count": null,
   "metadata": {},
   "outputs": [],
   "source": []
  }
 ],
 "metadata": {
  "kernelspec": {
   "display_name": "Python 3",
   "language": "python",
   "name": "python3"
  },
  "language_info": {
   "codemirror_mode": {
    "name": "ipython",
    "version": 3
   },
   "file_extension": ".py",
   "mimetype": "text/x-python",
   "name": "python",
   "nbconvert_exporter": "python",
   "pygments_lexer": "ipython3",
   "version": "3.7.4"
  }
 },
 "nbformat": 4,
 "nbformat_minor": 2
}
